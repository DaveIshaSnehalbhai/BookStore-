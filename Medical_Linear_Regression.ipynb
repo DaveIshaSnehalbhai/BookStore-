{
  "nbformat": 4,
  "nbformat_minor": 0,
  "metadata": {
    "colab": {
      "provenance": []
    },
    "kernelspec": {
      "name": "python3",
      "display_name": "Python 3"
    },
    "language_info": {
      "name": "python"
    }
  },
  "cells": [
    {
      "cell_type": "code",
      "execution_count": 1,
      "metadata": {
        "id": "ORqZYQBob_Lm"
      },
      "outputs": [],
      "source": [
        "#Importing dataset\n",
        "import pandas as pd\n",
        "df = pd.read_csv('/content/Medical Price Dataset.csv')"
      ]
    },
    {
      "cell_type": "code",
      "source": [
        "#Analysing the dataset\n",
        "df.info()"
      ],
      "metadata": {
        "colab": {
          "base_uri": "https://localhost:8080/"
        },
        "id": "6s6Oqu3YcWla",
        "outputId": "89dbcf17-a866-4405-971a-af9d357e6439"
      },
      "execution_count": 2,
      "outputs": [
        {
          "output_type": "stream",
          "name": "stdout",
          "text": [
            "<class 'pandas.core.frame.DataFrame'>\n",
            "RangeIndex: 1338 entries, 0 to 1337\n",
            "Data columns (total 7 columns):\n",
            " #   Column    Non-Null Count  Dtype  \n",
            "---  ------    --------------  -----  \n",
            " 0   age       1338 non-null   int64  \n",
            " 1   sex       1338 non-null   object \n",
            " 2   bmi       1338 non-null   float64\n",
            " 3   children  1338 non-null   int64  \n",
            " 4   smoker    1338 non-null   object \n",
            " 5   region    1338 non-null   object \n",
            " 6   charges   1338 non-null   float64\n",
            "dtypes: float64(2), int64(2), object(3)\n",
            "memory usage: 73.3+ KB\n"
          ]
        }
      ]
    },
    {
      "cell_type": "code",
      "source": [
        "df.shape"
      ],
      "metadata": {
        "colab": {
          "base_uri": "https://localhost:8080/"
        },
        "id": "NhSwSapGcbkT",
        "outputId": "13e67cf1-894a-4cdf-8fe6-2a8700ce134e"
      },
      "execution_count": 3,
      "outputs": [
        {
          "output_type": "execute_result",
          "data": {
            "text/plain": [
              "(1338, 7)"
            ]
          },
          "metadata": {},
          "execution_count": 3
        }
      ]
    },
    {
      "cell_type": "code",
      "source": [
        "df.size"
      ],
      "metadata": {
        "colab": {
          "base_uri": "https://localhost:8080/"
        },
        "id": "BVTeOW4Ycd3i",
        "outputId": "7123671f-9f6a-496a-b891-f4ccdfd1ce41"
      },
      "execution_count": 4,
      "outputs": [
        {
          "output_type": "execute_result",
          "data": {
            "text/plain": [
              "9366"
            ]
          },
          "metadata": {},
          "execution_count": 4
        }
      ]
    },
    {
      "cell_type": "code",
      "source": [
        "df.describe"
      ],
      "metadata": {
        "colab": {
          "base_uri": "https://localhost:8080/"
        },
        "id": "p2oIz_fEceyP",
        "outputId": "dcee801a-7cba-440f-9aa9-ba9dfb020b68"
      },
      "execution_count": 5,
      "outputs": [
        {
          "output_type": "execute_result",
          "data": {
            "text/plain": [
              "<bound method NDFrame.describe of       age     sex     bmi  children smoker     region      charges\n",
              "0      19  female  27.900         0    yes  southwest  16884.92400\n",
              "1      18    male  33.770         1     no  southeast   1725.55230\n",
              "2      28    male  33.000         3     no  southeast   4449.46200\n",
              "3      33    male  22.705         0     no  northwest  21984.47061\n",
              "4      32    male  28.880         0     no  northwest   3866.85520\n",
              "...   ...     ...     ...       ...    ...        ...          ...\n",
              "1333   50    male  30.970         3     no  northwest  10600.54830\n",
              "1334   18  female  31.920         0     no  northeast   2205.98080\n",
              "1335   18  female  36.850         0     no  southeast   1629.83350\n",
              "1336   21  female  25.800         0     no  southwest   2007.94500\n",
              "1337   61  female  29.070         0    yes  northwest  29141.36030\n",
              "\n",
              "[1338 rows x 7 columns]>"
            ]
          },
          "metadata": {},
          "execution_count": 5
        }
      ]
    },
    {
      "cell_type": "code",
      "source": [
        "import matplotlib.pyplot as plt\n",
        "import seaborn as sns\n"
      ],
      "metadata": {
        "id": "InFCtRGOcgjt"
      },
      "execution_count": 6,
      "outputs": []
    },
    {
      "cell_type": "code",
      "source": [
        "sns.countplot(x=df['age'])\n",
        "plt.xticks(rotation='vertical')"
      ],
      "metadata": {
        "colab": {
          "base_uri": "https://localhost:8080/",
          "height": 1000
        },
        "id": "02Sq84bzcmnW",
        "outputId": "679e892b-fae5-4b2b-e5c1-6dcd9aeb5255"
      },
      "execution_count": 10,
      "outputs": [
        {
          "output_type": "execute_result",
          "data": {
            "text/plain": [
              "(array([ 0,  1,  2,  3,  4,  5,  6,  7,  8,  9, 10, 11, 12, 13, 14, 15, 16,\n",
              "        17, 18, 19, 20, 21, 22, 23, 24, 25, 26, 27, 28, 29, 30, 31, 32, 33,\n",
              "        34, 35, 36, 37, 38, 39, 40, 41, 42, 43, 44, 45, 46]),\n",
              " [Text(0, 0, '18'),\n",
              "  Text(1, 0, '19'),\n",
              "  Text(2, 0, '20'),\n",
              "  Text(3, 0, '21'),\n",
              "  Text(4, 0, '22'),\n",
              "  Text(5, 0, '23'),\n",
              "  Text(6, 0, '24'),\n",
              "  Text(7, 0, '25'),\n",
              "  Text(8, 0, '26'),\n",
              "  Text(9, 0, '27'),\n",
              "  Text(10, 0, '28'),\n",
              "  Text(11, 0, '29'),\n",
              "  Text(12, 0, '30'),\n",
              "  Text(13, 0, '31'),\n",
              "  Text(14, 0, '32'),\n",
              "  Text(15, 0, '33'),\n",
              "  Text(16, 0, '34'),\n",
              "  Text(17, 0, '35'),\n",
              "  Text(18, 0, '36'),\n",
              "  Text(19, 0, '37'),\n",
              "  Text(20, 0, '38'),\n",
              "  Text(21, 0, '39'),\n",
              "  Text(22, 0, '40'),\n",
              "  Text(23, 0, '41'),\n",
              "  Text(24, 0, '42'),\n",
              "  Text(25, 0, '43'),\n",
              "  Text(26, 0, '44'),\n",
              "  Text(27, 0, '45'),\n",
              "  Text(28, 0, '46'),\n",
              "  Text(29, 0, '47'),\n",
              "  Text(30, 0, '48'),\n",
              "  Text(31, 0, '49'),\n",
              "  Text(32, 0, '50'),\n",
              "  Text(33, 0, '51'),\n",
              "  Text(34, 0, '52'),\n",
              "  Text(35, 0, '53'),\n",
              "  Text(36, 0, '54'),\n",
              "  Text(37, 0, '55'),\n",
              "  Text(38, 0, '56'),\n",
              "  Text(39, 0, '57'),\n",
              "  Text(40, 0, '58'),\n",
              "  Text(41, 0, '59'),\n",
              "  Text(42, 0, '60'),\n",
              "  Text(43, 0, '61'),\n",
              "  Text(44, 0, '62'),\n",
              "  Text(45, 0, '63'),\n",
              "  Text(46, 0, '64')])"
            ]
          },
          "metadata": {},
          "execution_count": 10
        },
        {
          "output_type": "display_data",
          "data": {
            "text/plain": [
              "<Figure size 640x480 with 1 Axes>"
            ],
            "image/png": "[encoded data removed]"
          },
          "metadata": {}
        }
      ]
    },
    {
      "cell_type": "code",
      "source": [
        "fname = df['region'].unique()\n",
        "fname"
      ],
      "metadata": {
        "colab": {
          "base_uri": "https://localhost:8080/"
        },
        "id": "cuKNGXKMcu0j",
        "outputId": "18b6a3ba-a6da-4ff7-bae8-49f5bbb97ca5"
      },
      "execution_count": 11,
      "outputs": [
        {
          "output_type": "execute_result",
          "data": {
            "text/plain": [
              "array(['southwest', 'southeast', 'northwest', 'northeast'], dtype=object)"
            ]
          },
          "metadata": {},
          "execution_count": 11
        }
      ]
    },
    {
      "cell_type": "code",
      "source": [
        "fsize = df.groupby('region').size()\n",
        "fsize"
      ],
      "metadata": {
        "colab": {
          "base_uri": "https://localhost:8080/"
        },
        "id": "NRbcUirwdKPZ",
        "outputId": "b3c46cf2-2065-4c7f-bcc5-fe4f9c9de189"
      },
      "execution_count": 13,
      "outputs": [
        {
          "output_type": "execute_result",
          "data": {
            "text/plain": [
              "region\n",
              "northeast    324\n",
              "northwest    325\n",
              "southeast    364\n",
              "southwest    325\n",
              "dtype: int64"
            ]
          },
          "metadata": {},
          "execution_count": 13
        }
      ]
    },
    {
      "cell_type": "code",
      "source": [
        "plt.bar(fname,fsize)"
      ],
      "metadata": {
        "colab": {
          "base_uri": "https://localhost:8080/",
          "height": 447
        },
        "id": "e4rky2qCdZYr",
        "outputId": "56275091-39e3-4242-ba15-5225d3255bf2"
      },
      "execution_count": 14,
      "outputs": [
        {
          "output_type": "execute_result",
          "data": {
            "text/plain": [
              "<BarContainer object of 4 artists>"
            ]
          },
          "metadata": {},
          "execution_count": 14
        },
        {
          "output_type": "display_data",
          "data": {
            "text/plain": [
              "<Figure size 640x480 with 1 Axes>"
            ],
            "image/png": "[encoded data removed]"
          },
          "metadata": {}
        }
      ]
    },
    {
      "cell_type": "code",
      "source": [
        "sns.jointplot(x=df['children'],y=df['charges'])"
      ],
      "metadata": {
        "colab": {
          "base_uri": "https://localhost:8080/",
          "height": 624
        },
        "id": "qdHBYOGYdgq3",
        "outputId": "20d97fbb-2017-41a7-ac85-b0748f66e44e"
      },
      "execution_count": 17,
      "outputs": [
        {
          "output_type": "execute_result",
          "data": {
            "text/plain": [
              "<seaborn.axisgrid.JointGrid at 0x7f4f847117e0>"
            ]
          },
          "metadata": {},
          "execution_count": 17
        },
        {
          "output_type": "display_data",
          "data": {
            "text/plain": [
              "<Figure size 600x600 with 3 Axes>"
            ],
            "image/png": "[encoded data removed]"
          },
          "metadata": {}
        }
      ]
    },
    {
      "cell_type": "code",
      "source": [
        "sns.countplot(x=df['smoker'])"
      ],
      "metadata": {
        "colab": {
          "base_uri": "https://localhost:8080/",
          "height": 466
        },
        "id": "DGv7himAdyWz",
        "outputId": "90674ab6-da32-4e52-c2e0-33cf95b8c9e3"
      },
      "execution_count": 18,
      "outputs": [
        {
          "output_type": "execute_result",
          "data": {
            "text/plain": [
              "<Axes: xlabel='smoker', ylabel='count'>"
            ]
          },
          "metadata": {},
          "execution_count": 18
        },
        {
          "output_type": "display_data",
          "data": {
            "text/plain": [
              "<Figure size 640x480 with 1 Axes>"
            ],
            "image/png": "[encoded data removed]"
          },
          "metadata": {}
        }
      ]
    },
    {
      "cell_type": "code",
      "source": [
        "sns.scatterplot(x=df['sex'],y=df['charges'])"
      ],
      "metadata": {
        "colab": {
          "base_uri": "https://localhost:8080/",
          "height": 466
        },
        "id": "oaUMslNteNjQ",
        "outputId": "72830ce0-2589-4db3-bdc3-64bbbb1ac4b9"
      },
      "execution_count": 24,
      "outputs": [
        {
          "output_type": "execute_result",
          "data": {
            "text/plain": [
              "<Axes: xlabel='sex', ylabel='charges'>"
            ]
          },
          "metadata": {},
          "execution_count": 24
        },
        {
          "output_type": "display_data",
          "data": {
            "text/plain": [
              "<Figure size 640x480 with 1 Axes>"
            ],
            "image/png": "[encoded data removed]"
          },
          "metadata": {}
        }
      ]
    },
    {
      "cell_type": "code",
      "source": [
        "df['sex'].value_counts().plot(kind='bar')"
      ],
      "metadata": {
        "colab": {
          "base_uri": "https://localhost:8080/",
          "height": 481
        },
        "id": "pPhOO83heRrK",
        "outputId": "e9302f40-f45f-4d46-ae6c-3f588ea91659"
      },
      "execution_count": 25,
      "outputs": [
        {
          "output_type": "execute_result",
          "data": {
            "text/plain": [
              "<Axes: >"
            ]
          },
          "metadata": {},
          "execution_count": 25
        },
        {
          "output_type": "display_data",
          "data": {
            "text/plain": [
              "<Figure size 640x480 with 1 Axes>"
            ],
            "image/png": "[encoded data removed]"
          },
          "metadata": {}
        }
      ]
    },
    {
      "cell_type": "code",
      "source": [
        "#Cleaning of data\n",
        "df.isnull().sum()"
      ],
      "metadata": {
        "colab": {
          "base_uri": "https://localhost:8080/"
        },
        "id": "9-n7ttbAfUtS",
        "outputId": "1e5855d1-850c-4137-874b-5f6f152cde73"
      },
      "execution_count": 26,
      "outputs": [
        {
          "output_type": "execute_result",
          "data": {
            "text/plain": [
              "age         0\n",
              "sex         0\n",
              "bmi         0\n",
              "children    0\n",
              "smoker      0\n",
              "region      0\n",
              "charges     0\n",
              "dtype: int64"
            ]
          },
          "metadata": {},
          "execution_count": 26
        }
      ]
    },
    {
      "cell_type": "code",
      "source": [
        "df['sex'] = df['sex'].replace({'male':0,'female':1})"
      ],
      "metadata": {
        "id": "FyNCTtpvfrWE"
      },
      "execution_count": 27,
      "outputs": []
    },
    {
      "cell_type": "code",
      "source": [
        "df['region'] = df['region'].replace({'southwest':0,'southeast':1,'northwest':2,'northeast':3})"
      ],
      "metadata": {
        "id": "OP1kUygOf7FT"
      },
      "execution_count": 28,
      "outputs": []
    },
    {
      "cell_type": "code",
      "source": [
        "df['sex'] = df['sex'].astype('int64')"
      ],
      "metadata": {
        "id": "Y436P38agYKb"
      },
      "execution_count": 29,
      "outputs": []
    },
    {
      "cell_type": "code",
      "source": [
        "df['region'] = df['region'].astype('int64')"
      ],
      "metadata": {
        "id": "L_6nrjA7ge21"
      },
      "execution_count": 30,
      "outputs": []
    },
    {
      "cell_type": "code",
      "source": [
        "df['smoker'] = df['smoker'].replace({'no':0,'yes':1})\n",
        "df['smoker'] = df['smoker'].astype('int64')"
      ],
      "metadata": {
        "id": "b1Eb6zn9grgJ"
      },
      "execution_count": 33,
      "outputs": []
    },
    {
      "cell_type": "code",
      "source": [
        "df.describe"
      ],
      "metadata": {
        "colab": {
          "base_uri": "https://localhost:8080/"
        },
        "id": "FEvWhHm3gmJV",
        "outputId": "155ae266-90af-4e30-c2c3-09c690c8d559"
      },
      "execution_count": 34,
      "outputs": [
        {
          "output_type": "execute_result",
          "data": {
            "text/plain": [
              "<bound method NDFrame.describe of       age  sex     bmi  children  smoker  region      charges\n",
              "0      19    1  27.900         0       1       0  16884.92400\n",
              "1      18    0  33.770         1       0       1   1725.55230\n",
              "2      28    0  33.000         3       0       1   4449.46200\n",
              "3      33    0  22.705         0       0       2  21984.47061\n",
              "4      32    0  28.880         0       0       2   3866.85520\n",
              "...   ...  ...     ...       ...     ...     ...          ...\n",
              "1333   50    0  30.970         3       0       2  10600.54830\n",
              "1334   18    1  31.920         0       0       3   2205.98080\n",
              "1335   18    1  36.850         0       0       1   1629.83350\n",
              "1336   21    1  25.800         0       0       0   2007.94500\n",
              "1337   61    1  29.070         0       1       2  29141.36030\n",
              "\n",
              "[1338 rows x 7 columns]>"
            ]
          },
          "metadata": {},
          "execution_count": 34
        }
      ]
    },
    {
      "cell_type": "code",
      "source": [
        "df.info()"
      ],
      "metadata": {
        "colab": {
          "base_uri": "https://localhost:8080/"
        },
        "id": "F-l-DwxdgovU",
        "outputId": "818a253b-3f77-46b5-8a31-03ebed72b90f"
      },
      "execution_count": 35,
      "outputs": [
        {
          "output_type": "stream",
          "name": "stdout",
          "text": [
            "<class 'pandas.core.frame.DataFrame'>\n",
            "RangeIndex: 1338 entries, 0 to 1337\n",
            "Data columns (total 7 columns):\n",
            " #   Column    Non-Null Count  Dtype  \n",
            "---  ------    --------------  -----  \n",
            " 0   age       1338 non-null   int64  \n",
            " 1   sex       1338 non-null   int64  \n",
            " 2   bmi       1338 non-null   float64\n",
            " 3   children  1338 non-null   int64  \n",
            " 4   smoker    1338 non-null   int64  \n",
            " 5   region    1338 non-null   int64  \n",
            " 6   charges   1338 non-null   float64\n",
            "dtypes: float64(2), int64(5)\n",
            "memory usage: 73.3 KB\n"
          ]
        }
      ]
    },
    {
      "cell_type": "code",
      "source": [
        "#Splitting of data\n",
        "X = df.iloc[:,0:6].values\n",
        "X"
      ],
      "metadata": {
        "colab": {
          "base_uri": "https://localhost:8080/"
        },
        "id": "sA4CQeR9g6ZI",
        "outputId": "6568cdac-3e66-49ee-f718-8b161ed8f550"
      },
      "execution_count": 38,
      "outputs": [
        {
          "output_type": "execute_result",
          "data": {
            "text/plain": [
              "array([[19.  ,  1.  , 27.9 ,  0.  ,  1.  ,  0.  ],\n",
              "       [18.  ,  0.  , 33.77,  1.  ,  0.  ,  1.  ],\n",
              "       [28.  ,  0.  , 33.  ,  3.  ,  0.  ,  1.  ],\n",
              "       ...,\n",
              "       [18.  ,  1.  , 36.85,  0.  ,  0.  ,  1.  ],\n",
              "       [21.  ,  1.  , 25.8 ,  0.  ,  0.  ,  0.  ],\n",
              "       [61.  ,  1.  , 29.07,  0.  ,  1.  ,  2.  ]])"
            ]
          },
          "metadata": {},
          "execution_count": 38
        }
      ]
    },
    {
      "cell_type": "code",
      "source": [
        "Y = df.iloc[:,6].values"
      ],
      "metadata": {
        "id": "N3I0pdWwiAD8"
      },
      "execution_count": 37,
      "outputs": []
    },
    {
      "cell_type": "code",
      "source": [
        "import numpy as np\n",
        "def split_data(X,Y,test_size=0.2,random_state=0):\n",
        "  np.random.seed(random_state)\n",
        "  indices = np.random.permutation(len(X))\n",
        "  data_test_size = int(X.shape[0]*test_size)\n",
        "  train_indices = indices[data_test_size:]\n",
        "  test_indices = indices[data_test_size:]\n",
        "  x_train = X[train_indices]\n",
        "  y_train = Y[test_indices]\n",
        "  x_test = X[test_indices]\n",
        "  y_test = Y[test_indices]\n",
        "  return x_train,y_train,y_test,x_test"
      ],
      "metadata": {
        "id": "XTt68oUmiMt0"
      },
      "execution_count": 50,
      "outputs": []
    },
    {
      "cell_type": "code",
      "source": [
        "x_train,y_train,y_test,x_test = split_data(X,Y)"
      ],
      "metadata": {
        "id": "mjLGS5AykMYv"
      },
      "execution_count": 51,
      "outputs": []
    },
    {
      "cell_type": "code",
      "source": [
        "class MultipleLinearRegression:\n",
        "    def _init_(self):\n",
        "        self.coefficients = None\n",
        "\n",
        "    def fit(self, x_train, y_train):\n",
        "        # Add a column of ones to X for the intercept term\n",
        "        ones = np.ones((x_train.shape[0], 1))\n",
        "        x_train = np.concatenate((ones, x_train), axis=1)\n",
        "\n",
        "        # Calculate the coefficients using the normal equation\n",
        "        XtX_inv = np.linalg.inv(np.dot(x_train.T, x_train))\n",
        "        XtY = np.dot(x_train.T, y_train)\n",
        "        self.coefficients = np.dot(XtX_inv, XtY)\n",
        "\n",
        "    def predict(self, x_test):\n",
        "        # Add a column of ones to X for the intercept term\n",
        "        ones = np.ones((x_test.shape[0], 1))\n",
        "        x_test = np.concatenate((ones, x_test),axis=1)\n",
        "\n",
        "        # Calculate the predicted values\n",
        "        y_pred = np.dot(x_test, self.coefficients)\n",
        "        return y_pred\n"
      ],
      "metadata": {
        "id": "o6JLGoRGkYmx"
      },
      "execution_count": 65,
      "outputs": []
    },
    {
      "cell_type": "code",
      "source": [
        "regression = MultipleLinearRegression()"
      ],
      "metadata": {
        "id": "tKrntBiRlOdl"
      },
      "execution_count": 44,
      "outputs": []
    },
    {
      "cell_type": "code",
      "source": [
        "regression.fit(x_train, y_train)"
      ],
      "metadata": {
        "id": "G64KDCY_lSBB"
      },
      "execution_count": 53,
      "outputs": []
    },
    {
      "cell_type": "code",
      "source": [
        "x_train.shape"
      ],
      "metadata": {
        "colab": {
          "base_uri": "https://localhost:8080/"
        },
        "id": "6czyuVeMlX0o",
        "outputId": "41d2efa0-99ae-480d-dc6d-8bd7214dee3b"
      },
      "execution_count": 46,
      "outputs": [
        {
          "output_type": "execute_result",
          "data": {
            "text/plain": [
              "(1071, 6)"
            ]
          },
          "metadata": {},
          "execution_count": 46
        }
      ]
    },
    {
      "cell_type": "code",
      "source": [
        "y_train.shape"
      ],
      "metadata": {
        "colab": {
          "base_uri": "https://localhost:8080/"
        },
        "id": "jx5tYwydlgt4",
        "outputId": "a8ba6ac0-1e4e-4b1d-d507-24c99845d1fa"
      },
      "execution_count": 52,
      "outputs": [
        {
          "output_type": "execute_result",
          "data": {
            "text/plain": [
              "(1071,)"
            ]
          },
          "metadata": {},
          "execution_count": 52
        }
      ]
    },
    {
      "cell_type": "code",
      "source": [
        "x_test.shape"
      ],
      "metadata": {
        "colab": {
          "base_uri": "https://localhost:8080/"
        },
        "id": "GiQAKO4bliXf",
        "outputId": "05dcfbdd-6fae-4b6e-9802-3087ba0cb27d"
      },
      "execution_count": 48,
      "outputs": [
        {
          "output_type": "execute_result",
          "data": {
            "text/plain": [
              "(267, 6)"
            ]
          },
          "metadata": {},
          "execution_count": 48
        }
      ]
    },
    {
      "cell_type": "code",
      "source": [
        "y_test.shape"
      ],
      "metadata": {
        "colab": {
          "base_uri": "https://localhost:8080/"
        },
        "id": "2X59wfJUltV5",
        "outputId": "6cff36f2-99e1-4452-c3e3-a31d14a666ea"
      },
      "execution_count": 49,
      "outputs": [
        {
          "output_type": "execute_result",
          "data": {
            "text/plain": [
              "(267,)"
            ]
          },
          "metadata": {},
          "execution_count": 49
        }
      ]
    },
    {
      "cell_type": "code",
      "source": [
        "y_pred = regression.predict(x_test)"
      ],
      "metadata": {
        "id": "3zwEAqN8lvCI"
      },
      "execution_count": 66,
      "outputs": []
    },
    {
      "cell_type": "code",
      "source": [
        "y_pred"
      ],
      "metadata": {
        "colab": {
          "base_uri": "https://localhost:8080/"
        },
        "id": "t6tCIC0CnIcF",
        "outputId": "d3347ee2-f5a9-4528-df17-bd484635318d"
      },
      "execution_count": 67,
      "outputs": [
        {
          "output_type": "execute_result",
          "data": {
            "text/plain": [
              "array([ 9471.46457013, 33388.25612114,  3615.4068444 , ...,\n",
              "        6132.71943075,  4519.18025681,  2373.3982677 ])"
            ]
          },
          "metadata": {},
          "execution_count": 67
        }
      ]
    },
    {
      "cell_type": "code",
      "source": [
        "from sklearn.metrics import r2_score\n",
        "score = r2_score(y_test,y_pred)\n",
        "print(score*100)"
      ],
      "metadata": {
        "colab": {
          "base_uri": "https://localhost:8080/"
        },
        "id": "O3iS2Hj3ogjh",
        "outputId": "2ae3d72a-bf9e-4f4f-f0fa-e44de01c4960"
      },
      "execution_count": 69,
      "outputs": [
        {
          "output_type": "stream",
          "name": "stdout",
          "text": [
            "73.68540869460077\n"
          ]
        }
      ]
    },
    {
      "cell_type": "code",
      "source": [],
      "metadata": {
        "id": "XLiLTXBBpIP2"
      },
      "execution_count": null,
      "outputs": []
    }
  ]
}